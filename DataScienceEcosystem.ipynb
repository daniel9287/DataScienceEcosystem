{
 "cells": [
  {
   "cell_type": "markdown",
   "id": "c6f8c0a8",
   "metadata": {},
   "source": [
    "# Data Science Tools and Ecosystem"
   ]
  },
  {
   "cell_type": "markdown",
   "id": "a0ba2c58",
   "metadata": {},
   "source": [
    "## In this notebook, Data Science Tools and Ecosystem are summarized."
   ]
  },
  {
   "cell_type": "markdown",
   "id": "72ca8346",
   "metadata": {},
   "source": [
    "__Objectives:__\n",
    "\n",
    "- List popular languages for Data Science\n",
    "- List popular libraries for Data Science\n",
    "- Evaluation of arithmetic expressions"
   ]
  },
  {
   "cell_type": "markdown",
   "id": "3e797845",
   "metadata": {},
   "source": [
    "### Some of the popular languages that Data Scientists use are:\n",
    "1) R\n",
    "2) Python\n",
    "3) C++\n",
    "4) Julia\n",
    "5) Visual Basic"
   ]
  },
  {
   "cell_type": "markdown",
   "id": "47a3ff86",
   "metadata": {},
   "source": [
    "### Some of the commonly used libraries used by Data Scientists include:\n",
    "\n",
    "1) Numpy\n",
    "2) Pandas\n",
    "3) Matplotlib\n",
    "4) ggplot2\n",
    "5) Plotly\n",
    " \n"
   ]
  },
  {
   "cell_type": "markdown",
   "id": "c3947901",
   "metadata": {},
   "source": [
    "| Data Science Tools |\n",
    "| :------------------- |\n",
    "| 1) R studio |\n",
    "| 2) JupyterLab |\n",
    "| 3) Orange |"
   ]
  },
  {
   "cell_type": "markdown",
   "id": "a90c453e",
   "metadata": {},
   "source": [
    "### Below are a few examples of evaluating arithmetic expressions in Python:"
   ]
  },
  {
   "cell_type": "code",
   "execution_count": 7,
   "id": "f8a3d647",
   "metadata": {},
   "outputs": [
    {
     "data": {
      "text/plain": [
       "17"
      ]
     },
     "execution_count": 7,
     "metadata": {},
     "output_type": "execute_result"
    }
   ],
   "source": [
    "# This a simple arithmetic expression to mutiply then add integers\n",
    "(3*4)+5"
   ]
  },
  {
   "cell_type": "code",
   "execution_count": 8,
   "id": "50df9229",
   "metadata": {},
   "outputs": [
    {
     "data": {
      "text/plain": [
       "3.3333333333333335"
      ]
     },
     "execution_count": 8,
     "metadata": {},
     "output_type": "execute_result"
    }
   ],
   "source": [
    "# This will convert 200 minutes to hours by diving by 60\n",
    "200/60"
   ]
  },
  {
   "cell_type": "markdown",
   "id": "cd254051",
   "metadata": {},
   "source": [
    "## Author\n",
    "Daniel Ryan"
   ]
  },
  {
   "cell_type": "code",
   "execution_count": null,
   "id": "d4a44fc4",
   "metadata": {},
   "outputs": [],
   "source": []
  }
 ],
 "metadata": {
  "kernelspec": {
   "display_name": "Python 3 (ipykernel)",
   "language": "python",
   "name": "python3"
  },
  "language_info": {
   "codemirror_mode": {
    "name": "ipython",
    "version": 3
   },
   "file_extension": ".py",
   "mimetype": "text/x-python",
   "name": "python",
   "nbconvert_exporter": "python",
   "pygments_lexer": "ipython3",
   "version": "3.11.7"
  }
 },
 "nbformat": 4,
 "nbformat_minor": 5
}
